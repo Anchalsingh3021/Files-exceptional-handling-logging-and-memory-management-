{
  "nbformat": 4,
  "nbformat_minor": 0,
  "metadata": {
    "colab": {
      "provenance": []
    },
    "kernelspec": {
      "name": "python3",
      "display_name": "Python 3"
    },
    "language_info": {
      "name": "python"
    }
  },
  "cells": [
    {
      "cell_type": "markdown",
      "source": [
        "## Files, exceptional handling,logging and memory management assignment\n",
        "\n",
        "1. What is the difference between interpreted and compiled languages?\n",
        "\n",
        "     - **Compiled languages** (like C, C++, and Go) are turned into machine code by a special program called a **compiler** before they run. This means the whole program is converted into code that the computer can understand directly. The compiled code runs faster because it’s already in the format the computer needs.\n",
        "\n",
        "     **interpreted languages** (like Python) are read and executed by an **interpreter** line by line. The interpreter translates the code while the program is running, which means it doesn’t need to be converted ahead of time. This makes interpreted languages slower because the translation happens as the program runs, but they are often easier to work with during development since you can test and change things quickly.\n",
        "\n",
        "2. What is exception handling in Python?\n",
        "\n",
        "     - Exception handling in Python is a way to deal with errors or unexpected situations (called exceptions) that might occur during the execution of our program. Instead of letting the program crash when something goes wrong, Python allows us to catch these errors and handle them in a controlled way.\n",
        "\n",
        "     In Python, we use the try, except, else, and finally blocks to handle exceptions:\n",
        "\n",
        "       - try block: we write the code that might cause an error inside the try block.\n",
        "       - except block: If an error occurs, the program jumps to the except block where you can handle the error, like printing a message or taking corrective action.\n",
        "       - else block: This part runs if no error occurs in the try block.\n",
        "       - finally block: This part runs no matter what, even if there’s an error, and is usually used for clean-up actions (like closing files or releasing resources).\n",
        "\n",
        "3. What is the purpose of the finally block in exception handling?\n",
        "\n",
        "    - The purpose of the **`finally` block** in exception handling is to ensure that certain code runs no matter what happens, whether an exception occurs or not. It’s used for **cleanup actions** that need to be performed regardless of whether the program encountered an error.\n",
        "\n",
        "     For example, if we're working with files, the `finally` block can be used to make sure the file gets closed, even if an error happens while reading or writing to it. Similarly, it’s useful for releasing resources, closing database connections, or stopping a network service.\n",
        "\n",
        "     No matter if there was an exception or if the `try` block executed successfully, the code inside the `finally` block will always run. This makes it a reliable place to ensure that important tasks, like cleanup, are handled correctly.\n",
        "\n",
        "4. What is logging in Python?\n",
        "\n",
        " - **Logging in Python** refers to the process of tracking and recording events or messages that happen while our program is running. It’s a way to capture information about our program’s behavior, which can help us debug problems, monitor performance, and keep track of what’s happening in our code.\n",
        "\n",
        "      In Python, the `logging` module provides a flexible framework for logging messages at different levels of severity (like debug, info, warning, error, and critical). You can configure it to write logs to various destinations, such as the console, a file, or even remote servers.\n",
        "\n",
        "     The main advantage of using logging over just printing messages to the screen is that logging allows you to control the level of detail, organize messages better, and save them for later review. It’s especially useful in larger applications or when you need to troubleshoot issues in production environments.\n",
        "\n",
        "\n",
        "5. What is the significance of the __del__ method in Python?\n",
        "\n",
        " - The **`__del__`** method in Python is a special method used for **object cleanup** when an object is about to be destroyed. It’s called when an object’s reference count drops to zero, meaning there are no more references to the object, and it is ready to be removed from memory.\n",
        "\n",
        "     Its main significance is to allow you to perform any necessary **cleanup actions** before the object is destroyed, such as closing files, releasing network resources, or cleaning up other external resources.\n",
        "\n",
        "     However,relying heavily on `__del__` is not recommended because it doesn’t always guarantee when or if it will be called (due to Python’s garbage collection mechanism). Instead, it's generally better to use context managers (`with` statement) or explicitly close resources.\n",
        "\n",
        "\n",
        "6. What is the difference between import and from ... import in Python?\n",
        "\n",
        "  - The difference between **`import`** and **`from ... import`** in Python lies in how you bring in and access elements from a module.\n",
        "\n",
        "     1. **`import module_name`**: This statement imports the entire module. To access anything inside the module, you need to use the module's name as a prefix. For example, if you import the `math` module, you would access its functions like `math.sqrt()`.\n",
        "\n",
        "   ```python\n",
        "   import math\n",
        "   print(math.sqrt(16))  # Accessing sqrt using the module name\n",
        "   ```\n",
        "\n",
        "      2. **`from module_name import something`**: This allows you to import specific elements (like functions, classes, or variables) directly from a module. This means you can use the element without needing to prefix it with the module's name. For example, if you import just `sqrt` from `math`, you can directly call `sqrt()`.\n",
        "\n",
        "   ```python\n",
        "   from math import sqrt\n",
        "   print(sqrt(16))  # Direct access to sqrt without the module name\n",
        "\n",
        "   ```\n",
        "\n",
        "\n",
        "7.  How can you handle multiple exceptions in Python?\n",
        "\n",
        "\n",
        "   - In Python, we can handle multiple exceptions by using multiple `except` blocks or by combining them in a single `except` block. Also These methods allow our program to catch and handle the specific error that occurs, preventing crashes and making our code more robust.\n",
        "\n",
        "      - **Using multiple `except` blocks**: We can write separate `except` blocks for different types of exceptions. This way, each block will handle a specific error.\n",
        "\n",
        "     - **Combining exceptions**: If we want to handle different exceptions in the same way, we can list them in a tuple in one `except` block. This way, Python will catch and handle all the specified exceptions with a single response.\n",
        "\n",
        "\n",
        "8. What is the purpose of the with statement when handling files in Python?\n",
        "\n",
        "\n",
        "  - The purpose of the `with` statement when handling files in Python is to simplify the process of opening and closing files. It ensures that a file is properly closed after it has been used, even if an error occurs during the file operations.\n",
        "\n",
        "     When we use the `with` statement, Python automatically takes care of opening the file and closing it once the block of code inside the `with` statement is finished. This helps prevent issues like forgetting to close a file, which can lead to memory leaks or other problems.\n",
        "\n",
        "     Using `with` makes our code cleaner and more reliable, as we don’t have to manually close the file. It handles everything for us.\n",
        "\n",
        "\n",
        "\n",
        "9. What is the difference between multithreading and multiprocessing?\n",
        "\n",
        " - The main difference between multithreading and multiprocessing lies in how they manage tasks and use system resources.\n",
        "\n",
        " - **Multithreading** involves running multiple threads (smaller units of a process) within the same process. Threads share the same memory space, so they can easily share data. However, because of this shared memory, if one thread crashes, it can affect the entire process. Multithreading is useful for tasks that are I/O-bound (like reading files or network requests) because it allows one thread to wait while others keep running.\n",
        "\n",
        " - **Multiprocessing**, on the other hand, runs multiple processes, each with its own memory space. Each process is independent, so if one process fails, it won’t affect others. Multiprocessing is better suited for CPU-bound tasks (tasks that require heavy computation) because it can utilize multiple CPU cores, improving performance.\n",
        "\n",
        "\n",
        "\n",
        "10. What are the advantages of using logging in a program?\n",
        "\n",
        " - Using logging in a program  advantages:\n",
        "\n",
        "     - **Tracking and Debugging**: Logging helps us keep track of what’s happening in our program, making it easier to debug. We can log messages at different levels (like info, warning, or error) to understand the flow of the program and spot where things went wrong.\n",
        "\n",
        "     - **Better Error Handling**: When an error occurs, we can log detailed information about it (such as the error message, time, and context), which helps in diagnosing and fixing the issue faster.\n",
        "\n",
        "     - **Monitoring**: Logging allows us to monitor our program's performance and behavior over time. We can track how the program is performing and whether there are any unusual patterns, which is especially useful in production environments.\n",
        "\n",
        "     - **Persistence**: Unlike `print()` statements, which are temporary and disappear once the program ends, logs are saved to files or other persistent storage. This allows us to review past actions even after the program has finished running.\n",
        "\n",
        "     - **Customization**: The logging module allows us to customize the output, set different logging levels (e.g., debug, warning, critical), and store logs in various formats, making it flexible and tailored to our needs.\n",
        "\n",
        "\n",
        "11. What is memory management in Python?\n",
        "\n",
        " - Memory management in Python is how the program handles and organizes the computer's memory when running. Python makes this process simple for us, so we don’t have to worry too much about it. Here’s a breakdown in easier terms:\n",
        "\n",
        "     1. **Automatic Memory Allocation**: When we create variables or objects, Python automatically gives them memory. We don’t have to manually tell the computer to do this.\n",
        "\n",
        "     2. **Garbage Collection**: Python cleans up unused memory on its own. When something is no longer needed or used by the program, Python will remove it to make space for new things.\n",
        "\n",
        "     3. **Reference Counting**: Python keeps track of how many times an object is being used. When nothing is using it anymore, Python knows it’s safe to delete it.\n",
        "\n",
        "     4. **Memory Pools**: Python groups small memory requests together to make things run more efficiently. This saves time and memory, so the program doesn’t have to keep asking for space every time.\n",
        "\n",
        "\n",
        "12. What are the basic steps involved in exception handling in Python?\n",
        "\n",
        " -  Basic steps help us handle errors in a controlled way instead of letting the program crash. Here’s a simple explanation of the process:\n",
        "\n",
        "     1. **Try Block**: First, we write the code that might cause an error inside a `try` block. This is where we put the code that could potentially raise an exception.\n",
        "\n",
        "     2. **Except Block**: If an error occurs in the `try` block, Python will jump to the `except` block. Here, we can handle the specific error, such as printing a message or fixing the issue.\n",
        "\n",
        "     3. **Else Block (Optional)**: If no error occurs in the `try` block, the code inside the `else` block will run. This block is optional but useful if we want to do something when everything goes smoothly.\n",
        "\n",
        "     4. **Finally Block (Optional)**: The `finally` block runs no matter what—whether there’s an error or not. It’s useful for cleaning up resources, like closing a file, even if an exception occurs.\n",
        "\n",
        "       So, the basic steps are:\n",
        "     - **Try** to run the code,\n",
        "     - **Except** an error occurs, handle it,\n",
        "     - Optionally, run code in **Else** if no error happens,\n",
        "     - Always run the **Finally** block for cleanup.\n",
        "\n",
        "\n",
        "13. Why is memory management important in Python?\n",
        "\n",
        " - Memory management is important in Python because it helps ensure that our program runs efficiently and doesn't use up too much memory. Here's why it matters:\n",
        "\n",
        "     1. **Efficient Resource Use**: Python automatically manages memory, freeing up space when it's no longer needed. This helps the program run smoothly without using more memory than necessary.\n",
        "\n",
        "     2. **Prevents Crashes**: Without proper memory management, programs can use up all available memory, leading to crashes or slowdowns. Python's garbage collection helps avoid this by removing unused objects.\n",
        "\n",
        "     3. **Improves Performance**: By automatically cleaning up memory, Python helps maintain the performance of the program, especially for long-running applications or programs that handle a lot of data.\n",
        "\n",
        "     4. **Reduces Errors**: With automatic memory management, Python takes care of the complex task of allocating and freeing memory, reducing the chance of memory-related errors, like memory leaks.\n",
        "\n",
        "\n",
        "14. What is the role of try and except in exception handling?\n",
        "\n",
        " - The role of `try` and `except` in exception handling is to help deal with errors that might occur during the execution of a program without crashing it.\n",
        "\n",
        " - **Try Block**: The `try` block is where we place the code that might cause an error. Python attempts to run this code first. If an error occurs, Python moves on to the next step.\n",
        "\n",
        " - **Except Block**: If an error happens inside the `try` block, Python will jump to the `except` block to handle the error. This is where we can define how to deal with the error, such as showing an error message or fixing the issue.\n",
        "\n",
        "15. How does Python's garbage collection system work?\n",
        "\n",
        " - Python’s garbage collection system helps manage memory by automatically cleaning up objects that are no longer needed.This helps prevent memory leaks and keeps the program running efficiently.  \n",
        "\n",
        "     1. **Reference Counting**: Every object in Python has a counter that tracks how many times it's being used. When the counter reaches zero (meaning nothing is using that object anymore), Python knows it can safely remove it from memory.\n",
        "\n",
        "     2. **Cycle Detection**: Sometimes, objects can \"hold onto\" each other (like A referring to B, and B referring back to A). This can prevent memory from being cleaned up. Python can find and fix these situations, cleaning up objects that are stuck in a loop.\n",
        "\n",
        "     3. **Automatic Cleanup**: Python automatically checks and cleans up memory at regular times. We don’t have to worry about manually deleting things because Python does it for us.\n",
        "\n",
        "\n",
        "16. What is the purpose of the else block in exception handling?\n",
        "\n",
        " - The purpose of the `else` block in exception handling is to define code that we want to execute only if no exception occurs in the `try` block. It allows us to separate normal execution from error handling. If everything in the `try` block works without errors, the code inside the `else` block runs. However, if an exception is raised, the `else` block is skipped, and the `except` block takes care of the error. This helps keep the error-handling code clean and separate from the normal flow of the program.\n",
        "\n",
        "17. What are the common logging levels in Python?\n",
        "\n",
        " - In Python, the common logging levels are:\n",
        "\n",
        "     1. **DEBUG**: This level is used for detailed information, mostly useful for diagnosing problems. It logs everything from the start of the program.\n",
        "\n",
        "     2. **INFO**: This level is used for general information about the program’s progress. It shows regular events that are useful to track the flow of the application.\n",
        "\n",
        "     3. **WARNING**: This level indicates something unexpected happened, but the program is still running. It’s used for things that are not critical but might need attention.\n",
        "\n",
        "     4. **ERROR**: This level is used when something goes wrong, but the program can still continue. It indicates an issue that needs fixing.\n",
        "\n",
        "     5. **CRITICAL**: This level is for very serious errors that may cause the program to stop. It’s the highest level of logging and indicates a major problem.\n",
        "\n",
        "\n",
        "18. What is the difference between os.fork() and multiprocessing in Python?\n",
        "\n",
        " - The main difference between `os.fork()` and `multiprocessing` in Python is  how they handle process creation and execution.\n",
        "\n",
        "     1. **os.fork()**:\n",
        "     - `os.fork()` is used to create a new child process by duplicating the current process.\n",
        "     - It works only on Unix-based systems (Linux, macOS) and does not work on Windows.\n",
        "     - The parent and child processes run concurrently, but the child process gets a copy of the parent’s memory.\n",
        "     - It is lower-level and does not have built-in features for managing multiple processes.\n",
        "\n",
        "     2. **multiprocessing**:\n",
        "     - The `multiprocessing` module is a higher-level way to create and manage multiple processes in Python.\n",
        "     - It works across all platforms (Linux, macOS, and Windows).\n",
        "     - It provides easy-to-use features like process pools, shared memory, and inter-process communication (IPC).\n",
        "     - It is more flexible and suitable for parallel processing tasks.\n",
        "\n",
        "\n",
        "19. What is the importance of closing a file in Python?\n",
        "\n",
        "\n",
        " - Closing a file in Python is important for several reasons:\n",
        "\n",
        "     1. **Releases Resources**: When we open a file, the system allocates resources like memory and file handles to manage the file. Closing the file releases these resources so that they can be used by other parts of the program or system.\n",
        "\n",
        "     2. **Ensures Data is Saved**: If we are writing to a file, closing it ensures that all changes are saved properly. If we don’t close the file, some data might not be written, or changes could be lost.\n",
        "\n",
        "     3. **Prevents File Corruption**: If we don’t close the file properly, it may become corrupted, especially if there are unfinished operations like writing data to it.\n",
        "\n",
        "     4. **Avoids File Locking Issues**: Many systems lock files while they’re open. Not closing the file can lead to issues where other programs or processes cannot access the file until it is closed.\n",
        "\n",
        "20. What is the difference between file.read() and file.readline() in Python?\n",
        "\n",
        "   - The difference between `file.read()` and `file.readline()` in Python lies in how we read the contents of a file:\n",
        "\n",
        "    1. **file.read()**:\n",
        "   - We use `file.read()` to read the entire content of the file at once.\n",
        "   - It returns the whole file as a single string, including all lines and characters.\n",
        "   - If the file is large, it can use a lot of memory since it loads everything into memory at once.\n",
        "   - This is useful when we need to read the whole file.\n",
        "\n",
        "    2. **file.readline()**:\n",
        "   - We use `file.readline()` to read only one line from the file at a time.\n",
        "   - It returns the line as a string, including the newline character (`\\n`) at the end of each line.\n",
        "   - It allows us to read the file line by line, which is more memory-efficient, especially for large files.\n",
        "   - This is useful when we want to process each line separately.\n",
        "\n",
        "21. What is the logging module in Python used for?\n",
        "\n",
        " - The `logging` module in Python is used to track events that happen while the program runs. It helps us record information, warnings, errors, and other events in a systematic way, making it easier to debug and monitor the program.\n",
        "\n",
        "     `logging` module uses:\n",
        "\n",
        "     1. **Recording Events**: We can log messages at different levels (e.g., debug, info, warning, error, critical) to track the program's behavior.\n",
        "\n",
        "     2. **Debugging**: It helps us troubleshoot issues by logging important information about what the program is doing at specific points, making it easier to identify problems.\n",
        "\n",
        "     3. **Managing Log Output**: We can configure the logging module to output logs to different destinations, such as the console, files, or remote servers.\n",
        "\n",
        "     4. **Flexible Logging**: It provides flexibility to control what gets logged and how (e.g., setting different levels of logging for different parts of the program).\n",
        "\n",
        "22. What is the os module in Python used for in file handling?\n",
        "\n",
        " - it used for interacting with the operating system and provides many useful functions for file handling. like:\n",
        "\n",
        "     1. **File and Directory Operations**: We can create, delete, and rename files or directories using functions like `os.mkdir()`, `os.remove()`, and `os.rename()`.\n",
        "\n",
        "     2. **Path Manipulation**: It helps us work with file paths, such as joining paths with `os.path.join()` or getting the absolute path with `os.path.abspath()`.\n",
        "\n",
        "     3. **Check File or Directory**: We can check if a file or directory exists using `os.path.exists()` or check if it's a file or directory with `os.path.isfile()` and `os.path.isdir()`.\n",
        "\n",
        "     4. **Changing Working Directory**: We can change the current working directory using `os.chdir()`.\n",
        "\n",
        "     5. **Get File Information**: It allows us to get details like file size or creation time using functions like `os.stat()`.\n",
        "\n",
        "23. What are the challenges associated with memory management in Python?\n",
        "\n",
        "   - Memory management in Python can come with a few challenges:\n",
        "\n",
        "     1. **Garbage Collection**: Python uses automatic garbage collection to manage memory, but sometimes objects are not freed immediately when they are no longer in use. This can lead to memory leaks if objects are unintentionally kept alive.\n",
        "\n",
        "     2. **Circular References**: Objects referring to each other in a loop (circular references) can be hard for the garbage collector to detect, leading to memory not being released properly, especially in complex programs.\n",
        "\n",
        "     3. **Memory Overhead**: Python objects, especially in the case of larger data structures, tend to have more memory overhead compared to lower-level languages. This can lead to inefficient memory usage.\n",
        "\n",
        "     4. **Limited Control**: In Python, we don’t have direct control over memory management, unlike languages like C or C++. This lack of fine-grained control can sometimes make it harder to optimize memory usage.\n",
        "\n",
        "     5. **Large Data Sets**: When working with large datasets, memory consumption can become an issue. Storing large amounts of data in memory might cause the program to slow down or even crash due to running out of memory.\n",
        "\n",
        "     6. **Memory Fragmentation**: As objects are allocated and deallocated, memory fragmentation can occur, leading to inefficient use of memory in long-running programs.\n",
        "\n",
        "24.  How do you raise an exception manually in Python?\n",
        "\n",
        "    - To raise an exception manually in Python, we use the `raise` keyword followed by the exception we want to raise. This allows us to trigger an error at any point in the program based on a condition we define.\n",
        "\n",
        "      We can raise built-in exceptions, such as `ValueError` or `TypeError`, to indicate specific issues. If needed, we can also create our own custom exceptions by defining a new exception class and raising it.\n",
        "\n",
        "      Raising exceptions manually helps us handle errors in a more controlled way, ensuring that when something goes wrong, we can stop the program and provide useful messages for debugging or error handling.\n",
        "\n",
        "25. Why is it important to use multithreading in certain applications?\n",
        "\n",
        "     - Multithreading is important in certain applications because it allows multiple tasks to run concurrently, improving performance. It is especially useful in programs that perform I/O-bound tasks, like file reading, network requests, or database operations, where one thread can handle the waiting process while another continues working.\n",
        "\n",
        "     By using multiple threads, applications can stay responsive, even when performing long-running tasks, such as in user interfaces or real-time applications. Multithreading helps avoid program freezes by allowing the main thread to keep running while background tasks are being processed.\n",
        "\n",
        "     It also helps to fully utilize the CPU in multi-core systems, improving the efficiency of CPU-bound tasks. In short, multithreading enables smoother, faster, and more efficient applications by running tasks in parallel.\n",
        "\n",
        "\n",
        "\n",
        "\n",
        "\n",
        "\n",
        "\n",
        "\n",
        "\n",
        "\n",
        "\n",
        "\n",
        "\n",
        "\n",
        "\n",
        "\n",
        "\n",
        "\n",
        "\n",
        "\n",
        "\n",
        "\n",
        "\n",
        "\n"
      ],
      "metadata": {
        "id": "-5qPkTe0PUw_"
      }
    },
    {
      "cell_type": "code",
      "execution_count": 2,
      "metadata": {
        "id": "8SgpHiLjOvQe"
      },
      "outputs": [],
      "source": [
        "# 1. How can you open a file for writing in Python and write a string to it\n",
        "\n",
        "# Open the file in write mode\n",
        "with open(\"example.txt\", \"w\") as file:\n",
        "    # Write a string to the file\n",
        "    file.write(\"Hello, this is a test string!\")\n"
      ]
    },
    {
      "cell_type": "code",
      "source": [
        "# 2. Write a Python program to read the contents of a file and print each line.\n",
        "# Open the file in read mode\n",
        "with open(\"example.txt\", \"r\") as file:  # <-- Change the file name here\n",
        "    # Read and print each line\n",
        "    for line in file:\n",
        "        print(line, end='')  # 'end' avoids adding an extra newline\n"
      ],
      "metadata": {
        "colab": {
          "base_uri": "https://localhost:8080/"
        },
        "id": "xIpUCT3xcYp8",
        "outputId": "c3ec13ab-91b3-4406-adf9-4862e0753a23"
      },
      "execution_count": 3,
      "outputs": [
        {
          "output_type": "stream",
          "name": "stdout",
          "text": [
            "Hello, this is a test string!"
          ]
        }
      ]
    },
    {
      "cell_type": "code",
      "source": [
        "# 3. How would you handle a case where the file doesn't exist while trying to open it for reading.\n",
        "\n",
        "try:\n",
        "    # Try to open the file in read mode\n",
        "    with open(\"example.txt\", \"r\") as file:  # <-- Change the file name here\n",
        "        # Read and print each line\n",
        "        for line in file:\n",
        "            print(line, end='')\n",
        "\n",
        "except FileNotFoundError:\n",
        "    # Handle the case where the file doesn't exist\n",
        "    print(\"The file does not exist.\")\n"
      ],
      "metadata": {
        "colab": {
          "base_uri": "https://localhost:8080/"
        },
        "id": "sdMNXEP5co2t",
        "outputId": "e6b78120-ec8a-45f5-83b8-acf823cce0dd"
      },
      "execution_count": 4,
      "outputs": [
        {
          "output_type": "stream",
          "name": "stdout",
          "text": [
            "Hello, this is a test string!"
          ]
        }
      ]
    },
    {
      "cell_type": "code",
      "source": [
        "# 4. Write a Python script that reads from one file and writes its content to another file\n",
        "\n",
        "try:\n",
        "    # Open the source file in read mode and the destination file in write mode\n",
        "    with open(\"source.txt\", \"r\") as source_file:  # <-- Change source file name here\n",
        "        with open(\"destination.txt\", \"w\") as destination_file:  # <-- Change destination file name here\n",
        "            # Read from the source file and write to the destination file\n",
        "            content = source_file.read()\n",
        "            destination_file.write(content)\n",
        "            print(\"Content successfully copied to destination file.\")\n",
        "except FileNotFoundError:\n",
        "    print(\"The source file does not exist.\")\n"
      ],
      "metadata": {
        "colab": {
          "base_uri": "https://localhost:8080/"
        },
        "id": "cUnCAmndc6Fr",
        "outputId": "7c34f975-ef91-461a-abb2-0be061d616a4"
      },
      "execution_count": 7,
      "outputs": [
        {
          "output_type": "stream",
          "name": "stdout",
          "text": [
            "The source file does not exist.\n"
          ]
        }
      ]
    },
    {
      "cell_type": "code",
      "source": [
        "# 5. How would you catch and handle division by zero error in Python?\n",
        "\n",
        "try:\n",
        "    # Attempt to perform division\n",
        "    numerator = 10\n",
        "    denominator = 0  # Change this to a non-zero value to avoid the error\n",
        "    result = numerator / denominator\n",
        "    print(f\"The result is: {result}\")\n",
        "\n",
        "except ZeroDivisionError:\n",
        "    # Handle division by zero error\n",
        "    print(\"Error: Cannot divide by zero!\")\n"
      ],
      "metadata": {
        "colab": {
          "base_uri": "https://localhost:8080/"
        },
        "id": "oZ8-hlEBfm_g",
        "outputId": "5b1bfd19-38c8-468a-9d0d-8df0e3628bbb"
      },
      "execution_count": 10,
      "outputs": [
        {
          "output_type": "stream",
          "name": "stdout",
          "text": [
            "Error: Cannot divide by zero!\n"
          ]
        }
      ]
    },
    {
      "cell_type": "code",
      "source": [
        "# 6. Write a Python program that logs an error message to a log file when a division by zero exception occurs\n",
        "\n",
        "import logging\n",
        "\n",
        "# Set up logging to a file\n",
        "logging.basicConfig(filename='error_log.txt', level=logging.ERROR,\n",
        "                    format='%(asctime)s - %(levelname)s - %(message)s')\n",
        "\n",
        "try:\n",
        "    # Attempt to perform division\n",
        "    numerator = 10\n",
        "    denominator = 0  # This will cause a division by zero error\n",
        "    result = numerator / denominator\n",
        "    print(f\"The result is: {result}\")\n",
        "\n",
        "except ZeroDivisionError as e:\n",
        "    # Log the error message to the log file\n",
        "    logging.error(f\"Division by zero error occurred: {e}\")\n",
        "    print(\"Error: Cannot divide by zero!\")\n"
      ],
      "metadata": {
        "colab": {
          "base_uri": "https://localhost:8080/"
        },
        "id": "fkt0ZpF6hBeZ",
        "outputId": "ca992d71-93e7-4126-ff18-65bbe72cf065"
      },
      "execution_count": 11,
      "outputs": [
        {
          "output_type": "stream",
          "name": "stderr",
          "text": [
            "ERROR:root:Division by zero error occurred: division by zero\n"
          ]
        },
        {
          "output_type": "stream",
          "name": "stdout",
          "text": [
            "Error: Cannot divide by zero!\n"
          ]
        }
      ]
    },
    {
      "cell_type": "code",
      "source": [
        "# 7. How do you log information at different levels (INFO, ERROR, WARNING) in Python using the logging module\n",
        "\n",
        "import logging\n",
        "\n",
        "# Set up logging to print messages to the console\n",
        "logging.basicConfig(level=logging.DEBUG, format='%(asctime)s - %(levelname)s - %(message)s')\n",
        "\n",
        "# Logging at different levels\n",
        "logging.debug(\"This is a DEBUG message.\")   # Detailed information, typically for diagnosing problems\n",
        "logging.info(\"This is an INFO message.\")    # General information about the program’s flow\n",
        "logging.warning(\"This is a WARNING message.\")  # Something unexpected, but the program can continue\n",
        "logging.error(\"This is an ERROR message.\")    # An error occurred, but the program can still run\n",
        "logging.critical(\"This is a CRITICAL message.\")  # A very serious error that might cause the program to stop\n"
      ],
      "metadata": {
        "colab": {
          "base_uri": "https://localhost:8080/"
        },
        "id": "0oRcwSv6iNH8",
        "outputId": "120e45ee-d1cd-45e9-e506-671a45811c66"
      },
      "execution_count": 12,
      "outputs": [
        {
          "output_type": "stream",
          "name": "stderr",
          "text": [
            "WARNING:root:This is a WARNING message.\n",
            "ERROR:root:This is an ERROR message.\n",
            "CRITICAL:root:This is a CRITICAL message.\n"
          ]
        }
      ]
    },
    {
      "cell_type": "code",
      "source": [
        "# 8. Write a program to handle a file opening error using exception handling.\n",
        "\n",
        "try:\n",
        "    # Attempt to open a file in read mode\n",
        "    with open(\"example.txt\", \"r\") as file:  # <-- Replace with  file name\n",
        "        content = file.read()\n",
        "        print(content)\n",
        "\n",
        "except FileNotFoundError:\n",
        "    # Handle the case where the file is not found\n",
        "    print(\"Error: The file does not exist.\")\n",
        "\n",
        "except IOError:\n",
        "    # Handle other input/output errors\n",
        "    print(\"Error: An issue occurred while opening the file.\")\n"
      ],
      "metadata": {
        "colab": {
          "base_uri": "https://localhost:8080/"
        },
        "id": "UR-0QLDAilx3",
        "outputId": "cbba03bd-662b-4912-d8f8-8492eedf8d90"
      },
      "execution_count": 14,
      "outputs": [
        {
          "output_type": "stream",
          "name": "stdout",
          "text": [
            "Hello, this is a test string!\n"
          ]
        }
      ]
    },
    {
      "cell_type": "code",
      "source": [
        "# 9. How can you read a file line by line and store its content in a list in Python?\n",
        "\n",
        "# Initialize an empty list to store lines\n",
        "lines = []\n",
        "\n",
        "# Open the file in read mode\n",
        "with open(\"example.txt\", \"r\") as file:  # <-- have to Replace  file name\n",
        "    # Read each line and store it in the list\n",
        "    for line in file:\n",
        "        lines.append(line.strip())  # Using strip() to remove any trailing newline characters\n",
        "\n",
        "# Print the list with the file's content\n",
        "print(lines)\n"
      ],
      "metadata": {
        "colab": {
          "base_uri": "https://localhost:8080/"
        },
        "id": "zu56kSgcjG4l",
        "outputId": "e2f40d95-418a-40c6-a8ef-cee89e39644b"
      },
      "execution_count": 15,
      "outputs": [
        {
          "output_type": "stream",
          "name": "stdout",
          "text": [
            "['Hello, this is a test string!']\n"
          ]
        }
      ]
    },
    {
      "cell_type": "code",
      "source": [
        "# 10. How can you append data to an existing file in Python?\n",
        "\n",
        "# Open the file in append mode\n",
        "with open(\"example.txt\", \"a\") as file:  # <-- have to Replace file name here\n",
        "    # Append new data to the file\n",
        "    file.write(\"This is new data being appended to the file.\\n\")\n"
      ],
      "metadata": {
        "id": "ZbLDHirVjsvx"
      },
      "execution_count": 16,
      "outputs": []
    },
    {
      "cell_type": "code",
      "source": [
        "# 11. Write a Python program that uses a try-except block to handle an error when attempting to access a dictionary key that doesn't exist\n",
        "\n",
        "# Sample dictionary\n",
        "my_dict = {\"name\": \"John\", \"age\": 30}\n",
        "\n",
        "try:\n",
        "    # Attempt to access a key that might not exist\n",
        "    value = my_dict[\"address\"]  # This key doesn't exist in the dictionary\n",
        "    print(value)\n",
        "\n",
        "except KeyError:\n",
        "    # Handle the case where the key doesn't exist in the dictionary\n",
        "    print(\"Error: The key does not exist in the dictionary.\")\n"
      ],
      "metadata": {
        "colab": {
          "base_uri": "https://localhost:8080/"
        },
        "id": "p93dQV3nkKSW",
        "outputId": "a35e9792-9972-4309-b258-8ef4b5e85a5c"
      },
      "execution_count": 17,
      "outputs": [
        {
          "output_type": "stream",
          "name": "stdout",
          "text": [
            "Error: The key does not exist in the dictionary.\n"
          ]
        }
      ]
    },
    {
      "cell_type": "code",
      "source": [
        "# 12. Write a program that demonstrates using multiple except blocks to handle different types of exceptions\n",
        "\n",
        "try:\n",
        "    # Code that may raise multiple types of exceptions\n",
        "    x = int(input(\"Enter a number: \"))  # Could raise ValueError\n",
        "    y = int(input(\"Enter another number: \"))  # Could raise ValueError\n",
        "    result = x / y  # Could raise ZeroDivisionError\n",
        "    print(f\"The result is: {result}\")\n",
        "\n",
        "except ValueError:\n",
        "    # Handle invalid input (non-integer values)\n",
        "    print(\"Error: Please enter valid integers.\")\n",
        "\n",
        "except ZeroDivisionError:\n",
        "    # Handle division by zero\n",
        "    print(\"Error: Division by zero is not allowed.\")\n",
        "\n",
        "except Exception as e:\n",
        "    # Handle any other unexpected exceptions\n",
        "    print(f\"An unexpected error occurred: {e}\")\n"
      ],
      "metadata": {
        "colab": {
          "base_uri": "https://localhost:8080/"
        },
        "id": "2aGcjsN0kXUW",
        "outputId": "42e5ee1e-d958-4edc-ad79-cadbc9e9713a"
      },
      "execution_count": 18,
      "outputs": [
        {
          "output_type": "stream",
          "name": "stdout",
          "text": [
            "Enter a number: 45\n",
            "Enter another number: 44\n",
            "The result is: 1.0227272727272727\n"
          ]
        }
      ]
    },
    {
      "cell_type": "code",
      "source": [
        "# 13. How would you check if a file exists before attempting to read it in Python\n",
        "\n",
        "import os\n",
        "\n",
        "file_path = \"example.txt\"  # <-- Replace with  file name or path\n",
        "\n",
        "if os.path.exists(file_path):\n",
        "    # If the file exists, open and read it\n",
        "    with open(file_path, \"r\") as file:\n",
        "        content = file.read()\n",
        "        print(content)\n",
        "else:\n",
        "    # If the file does not exist, print an error message\n",
        "    print(f\"Error: The file '{file_path}' does not exist.\")\n"
      ],
      "metadata": {
        "colab": {
          "base_uri": "https://localhost:8080/"
        },
        "id": "Bt6sTqiskywL",
        "outputId": "6446e427-a164-403a-e183-e2fc201fa320"
      },
      "execution_count": 19,
      "outputs": [
        {
          "output_type": "stream",
          "name": "stdout",
          "text": [
            "Hello, this is a test string!This is new data being appended to the file.\n",
            "\n"
          ]
        }
      ]
    },
    {
      "cell_type": "code",
      "source": [
        "# 14. Write a program that uses the logging module to log both informational and error messages.\n",
        "\n",
        "import logging\n",
        "\n",
        "# Set up logging to log messages to a file\n",
        "logging.basicConfig(filename='app.log', level=logging.DEBUG,\n",
        "                    format='%(asctime)s - %(levelname)s - %(message)s')\n",
        "\n",
        "# Log an informational message\n",
        "logging.info(\"This is an informational message.\")\n",
        "\n",
        "try:\n",
        "    # Try to divide by zero to raise an error\n",
        "    result = 10 / 0\n",
        "except ZeroDivisionError as e:\n",
        "    # Log the error message\n",
        "    logging.error(f\"Error occurred: {e}\")\n",
        "\n",
        "# Log another informational message\n",
        "logging.info(\"This is another informational message.\")\n"
      ],
      "metadata": {
        "colab": {
          "base_uri": "https://localhost:8080/"
        },
        "id": "zMZuisE3lBP1",
        "outputId": "c7c8430c-5cc1-4642-bed7-350c7dfef307"
      },
      "execution_count": 20,
      "outputs": [
        {
          "output_type": "stream",
          "name": "stderr",
          "text": [
            "ERROR:root:Error occurred: division by zero\n"
          ]
        }
      ]
    },
    {
      "cell_type": "code",
      "source": [
        "# 15. Write a Python program that prints the content of a file and handles the case when the file is empty.\n",
        "\n",
        "try:\n",
        "    # Open the file in read mode\n",
        "    with open(\"example.txt\", \"r\") as file:  # <-- Replace with  file name\n",
        "        content = file.read()\n",
        "\n",
        "        # Check if the file is empty\n",
        "        if content:\n",
        "            print(content)\n",
        "        else:\n",
        "            print(\"The file is empty.\")\n",
        "\n",
        "except FileNotFoundError:\n",
        "    print(\"Error: The file does not exist.\")\n",
        "except IOError:\n",
        "    print(\"Error: An issue occurred while reading the file.\")\n"
      ],
      "metadata": {
        "colab": {
          "base_uri": "https://localhost:8080/"
        },
        "id": "4b26bdRFlSbe",
        "outputId": "bb805ed9-e583-4b41-f09a-7522b74697da"
      },
      "execution_count": 21,
      "outputs": [
        {
          "output_type": "stream",
          "name": "stdout",
          "text": [
            "Hello, this is a test string!This is new data being appended to the file.\n",
            "\n"
          ]
        }
      ]
    },
    {
      "cell_type": "code",
      "source": [
        "#  16. Demonstrate how to use memory profiling to check the memory usage of a small program\n",
        "\n",
        "from memory_profiler import profile\n",
        "\n",
        "@profile\n",
        "def my_function():\n",
        "    a = [1] * (10**6)  # Creating a large list\n",
        "    b = [2] * (2 * 10**7)  # Creating another large list\n",
        "    del b  # Deleting b to free up memory\n",
        "    return a\n",
        "\n",
        "if __name__ == '__main__':\n",
        "    my_function()\n"
      ],
      "metadata": {
        "colab": {
          "base_uri": "https://localhost:8080/",
          "height": 383
        },
        "id": "mp4D77cilhmK",
        "outputId": "c1be24ed-661f-419e-aa6e-69944e49b05b"
      },
      "execution_count": 22,
      "outputs": [
        {
          "output_type": "error",
          "ename": "ModuleNotFoundError",
          "evalue": "No module named 'memory_profiler'",
          "traceback": [
            "\u001b[0;31m---------------------------------------------------------------------------\u001b[0m",
            "\u001b[0;31mModuleNotFoundError\u001b[0m                       Traceback (most recent call last)",
            "\u001b[0;32m<ipython-input-22-501d99aa2c10>\u001b[0m in \u001b[0;36m<cell line: 0>\u001b[0;34m()\u001b[0m\n\u001b[1;32m      1\u001b[0m \u001b[0;31m#  16. Demonstrate how to use memory profiling to check the memory usage of a small program\u001b[0m\u001b[0;34m\u001b[0m\u001b[0;34m\u001b[0m\u001b[0m\n\u001b[1;32m      2\u001b[0m \u001b[0;34m\u001b[0m\u001b[0m\n\u001b[0;32m----> 3\u001b[0;31m \u001b[0;32mfrom\u001b[0m \u001b[0mmemory_profiler\u001b[0m \u001b[0;32mimport\u001b[0m \u001b[0mprofile\u001b[0m\u001b[0;34m\u001b[0m\u001b[0;34m\u001b[0m\u001b[0m\n\u001b[0m\u001b[1;32m      4\u001b[0m \u001b[0;34m\u001b[0m\u001b[0m\n\u001b[1;32m      5\u001b[0m \u001b[0;34m@\u001b[0m\u001b[0mprofile\u001b[0m\u001b[0;34m\u001b[0m\u001b[0;34m\u001b[0m\u001b[0m\n",
            "\u001b[0;31mModuleNotFoundError\u001b[0m: No module named 'memory_profiler'",
            "",
            "\u001b[0;31m---------------------------------------------------------------------------\u001b[0;32m\nNOTE: If your import is failing due to a missing package, you can\nmanually install dependencies using either !pip or !apt.\n\nTo view examples of installing some common dependencies, click the\n\"Open Examples\" button below.\n\u001b[0;31m---------------------------------------------------------------------------\u001b[0m\n"
          ],
          "errorDetails": {
            "actions": [
              {
                "action": "open_url",
                "actionText": "Open Examples",
                "url": "/notebooks/snippets/importing_libraries.ipynb"
              }
            ]
          }
        }
      ]
    },
    {
      "cell_type": "code",
      "source": [
        "# 17. Write a Python program to create and write a list of numbers to a file, one number per line.\n",
        "\n",
        "# List of numbers\n",
        "numbers = [1, 2, 3, 4, 5, 6, 7, 8, 9, 10]\n",
        "\n",
        "# Open the file in write mode\n",
        "with open(\"numbers.txt\", \"w\") as file:\n",
        "    # Loop through the list of numbers and write each one to the file\n",
        "    for number in numbers:\n",
        "        file.write(f\"{number}\\n\")\n",
        "\n",
        "print(\"Numbers have been written to 'numbers.txt'.\")\n"
      ],
      "metadata": {
        "colab": {
          "base_uri": "https://localhost:8080/"
        },
        "id": "cWWHpPmCqTbv",
        "outputId": "ff9010d1-623c-414a-eceb-c2f89d6213ad"
      },
      "execution_count": 23,
      "outputs": [
        {
          "output_type": "stream",
          "name": "stdout",
          "text": [
            "Numbers have been written to 'numbers.txt'.\n"
          ]
        }
      ]
    },
    {
      "cell_type": "code",
      "source": [
        "# 18.  How would you implement a basic logging setup that logs to a file with rotation after 1MB.\n",
        "\n",
        "import logging\n",
        "from logging.handlers import RotatingFileHandler\n",
        "\n",
        "# Create a logger\n",
        "logger = logging.getLogger(\"MyLogger\")\n",
        "logger.setLevel(logging.DEBUG)\n",
        "\n",
        "# Create a rotating file handler\n",
        "handler = RotatingFileHandler(\"my_log.log\", maxBytes=1e6, backupCount=3)  # 1MB, with 3 backup files\n",
        "handler.setLevel(logging.DEBUG)\n",
        "\n",
        "# Create a formatter and set it for the handler\n",
        "formatter = logging.Formatter('%(asctime)s - %(levelname)s - %(message)s')\n",
        "handler.setFormatter(formatter)\n",
        "\n",
        "# Add the handler to the logger\n",
        "logger.addHandler(handler)\n",
        "\n",
        "# Example log messages\n",
        "logger.debug(\"This is a debug message.\")\n",
        "logger.info(\"This is an info message.\")\n",
        "logger.warning(\"This is a warning message.\")\n",
        "logger.error(\"This is an error message.\")\n",
        "logger.critical(\"This is a critical message.\")\n"
      ],
      "metadata": {
        "colab": {
          "base_uri": "https://localhost:8080/"
        },
        "id": "YEMaOakcqh3G",
        "outputId": "97aeab61-cc92-4838-d2dc-017887731edb"
      },
      "execution_count": 24,
      "outputs": [
        {
          "output_type": "stream",
          "name": "stderr",
          "text": [
            "DEBUG:MyLogger:This is a debug message.\n",
            "INFO:MyLogger:This is an info message.\n",
            "WARNING:MyLogger:This is a warning message.\n",
            "ERROR:MyLogger:This is an error message.\n",
            "CRITICAL:MyLogger:This is a critical message.\n"
          ]
        }
      ]
    },
    {
      "cell_type": "code",
      "source": [
        "# 19. Write a program that handles both IndexError and KeyError using a try-except block.\n",
        "\n",
        "# Sample data\n",
        "my_list = [1, 2, 3]\n",
        "my_dict = {\"name\": \"Alice\", \"age\": 30}\n",
        "\n",
        "try:\n",
        "    # Attempt to access an invalid index in the list (IndexError)\n",
        "    print(my_list[5])  # This will raise IndexError\n",
        "\n",
        "    # Attempt to access a non-existent key in the dictionary (KeyError)\n",
        "    print(my_dict[\"address\"])  # This will raise KeyError\n",
        "\n",
        "except IndexError:\n",
        "    print(\"Error: Index out of range in the list.\")\n",
        "\n",
        "except KeyError:\n",
        "    print(\"Error: Key not found in the dictionary.\")\n"
      ],
      "metadata": {
        "colab": {
          "base_uri": "https://localhost:8080/"
        },
        "id": "FuMHKf1Uqu4T",
        "outputId": "6cadae30-d317-4dea-a262-847316f70002"
      },
      "execution_count": 25,
      "outputs": [
        {
          "output_type": "stream",
          "name": "stdout",
          "text": [
            "Error: Index out of range in the list.\n"
          ]
        }
      ]
    },
    {
      "cell_type": "code",
      "source": [
        "# 20. How would you open a file and read its contents using a context manager in Python?\n",
        "\n",
        "# Open the file using a context manager (with statement)\n",
        "with open(\"example.txt\", \"r\") as file:  # <-- Replace with  file name\n",
        "    # Read the content of the file\n",
        "    content = file.read()\n",
        "\n",
        "# Print the content of the file\n",
        "print(content)\n"
      ],
      "metadata": {
        "colab": {
          "base_uri": "https://localhost:8080/"
        },
        "id": "HXpt0iz2rAMr",
        "outputId": "71a4d404-5683-497b-82df-be6c54b29a8d"
      },
      "execution_count": 26,
      "outputs": [
        {
          "output_type": "stream",
          "name": "stdout",
          "text": [
            "Hello, this is a test string!This is new data being appended to the file.\n",
            "\n"
          ]
        }
      ]
    },
    {
      "cell_type": "code",
      "source": [
        "# 21. Write a Python program that reads a file and prints the number of occurrences of a specific word.\n",
        "\n",
        "def count_word_in_file(file_name, word_to_count):\n",
        "    try:\n",
        "        with open(file_name, 'r') as file:\n",
        "            return file.read().lower().split().count(word_to_count.lower())\n",
        "    except FileNotFoundError:\n",
        "        print(f\"Error: The file '{file_name}' was not found.\")\n",
        "        return 0\n",
        "\n",
        "file_name = \"example.txt\"  # Replace with  file name\n",
        "word_to_count = \"Anchal\"\n",
        "\n",
        "count = count_word_in_file(file_name, word_to_count)\n",
        "print(f\"The word '{word_to_count}' appears {count} times in the file.\")\n"
      ],
      "metadata": {
        "colab": {
          "base_uri": "https://localhost:8080/"
        },
        "id": "_D6u1kZ7rH-W",
        "outputId": "0d7639af-e62f-46dc-b89e-c45eb29ddcb7"
      },
      "execution_count": 29,
      "outputs": [
        {
          "output_type": "stream",
          "name": "stdout",
          "text": [
            "The word 'Anchal' appears 0 times in the file.\n"
          ]
        }
      ]
    },
    {
      "cell_type": "code",
      "source": [
        "# 22. How can you check if a file is empty before attempting to read its contents?\n",
        "\n",
        "import os\n",
        "\n",
        "file_name = \"example.txt\"  # Replace with your file name\n",
        "\n",
        "# Check if the file exists and is empty\n",
        "if os.path.exists(file_name) and os.stat(file_name).st_size == 0:\n",
        "    print(f\"The file '{file_name}' is empty.\")\n",
        "else:\n",
        "    try:\n",
        "        with open(file_name, 'r') as file:\n",
        "            content = file.read()\n",
        "            print(content)\n",
        "    except FileNotFoundError:\n",
        "        print(f\"Error: The file '{file_name}' was not found.\")\n"
      ],
      "metadata": {
        "colab": {
          "base_uri": "https://localhost:8080/"
        },
        "id": "D2AUj1iFrbAH",
        "outputId": "ce805442-6c2b-4f16-934d-792b800c5b2c"
      },
      "execution_count": 28,
      "outputs": [
        {
          "output_type": "stream",
          "name": "stdout",
          "text": [
            "Hello, this is a test string!This is new data being appended to the file.\n",
            "\n"
          ]
        }
      ]
    },
    {
      "cell_type": "code",
      "source": [
        "# 23. Write a Python program that writes to a log file when an error occurs during file handling.\n",
        "\n",
        " import logging\n",
        "\n",
        "# Set up logging to write to a log file\n",
        "logging.basicConfig(filename=\"error_log.txt\", level=logging.ERROR,\n",
        "                    format='%(asctime)s - %(levelname)s - %(message)s')\n",
        "\n",
        "def read_file(file_name):\n",
        "    try:\n",
        "        with open(file_name, 'r') as file:\n",
        "            content = file.read()\n",
        "            print(content)\n",
        "    except Exception as e:\n",
        "        # Log the error message when an exception occurs\n",
        "        logging.error(f\"Error occurred while handling the file '{file_name}': {e}\")\n",
        "\n",
        "# Example file name (use a non-existent file for testing the error logging)\n",
        "file_name = \"non_existent_file.txt\"\n",
        "read_file(file_name)\n"
      ],
      "metadata": {
        "id": "s0fqiSGwrpKS"
      },
      "execution_count": null,
      "outputs": []
    }
  ]
}